{
  "nbformat": 4,
  "nbformat_minor": 0,
  "metadata": {
    "colab": {
      "provenance": []
    },
    "kernelspec": {
      "name": "python3",
      "display_name": "Python 3"
    },
    "language_info": {
      "name": "python"
    }
  },
  "cells": [
    {
      "cell_type": "markdown",
      "source": [
        "<img style=\"float: left;\" src=\"https://mms.businesswire.com/media/20230410005465/en/700773/22/Logo.jpg\" height=\"175\"> <img style=\"float: center;\" src=\"https://avatars.githubusercontent.com/u/19476722?s=280&v=4\" width=\"175\" height=\"175\"> <img style=\"float: right;\" src=\"https://pbs.twimg.com/profile_images/1537109064093532160/mG03dW9G_400x400.jpg\" width=\"175\" height=\"175\">\n",
        "\n",
        "\n",
        "# **Time Series Data Exercises**\n",
        "\n",
        "Here we'll introduce working with time series data and `datetime` objects using `pandas`. In this workshop we will cover the following topics:\n",
        "* Opening time series data as `.csv`\n",
        "* Indexing\n",
        "* Subsetting\n",
        "* Resampling\n",
        "* Plotting\n",
        "\n",
        "### Additional Resources:\n",
        "\n",
        "* Read more about handling time-series data with `pandas` in our open **Intermediate Earth Data Science** textbook [here](https://www.earthdatascience.org/courses/use-data-open-source-python/use-time-series-data-in-python/introduction-to-time-series-in-pandas-python/).\n",
        "\n",
        "* Read the `pandas` **documentation** for time series/date functionality [here](https://pandas.pydata.org/docs/user_guide/timeseries.html#)."
      ],
      "metadata": {
        "id": "uQ_LYSLOexMb"
      }
    },
    {
      "cell_type": "code",
      "source": [
        "# Install missing python packages\n",
        "%pip install hvplot geoviews"
      ],
      "metadata": {
        "id": "EfTIlTHXm7_b"
      },
      "execution_count": null,
      "outputs": []
    },
    {
      "cell_type": "code",
      "execution_count": null,
      "metadata": {
        "id": "tM-ukyHyjluT"
      },
      "outputs": [],
      "source": [
        "# Import libraries\n",
        "import pandas as pd\n",
        "import holoviews as hv\n",
        "import hvplot.pandas\n",
        "\n",
        "import matplotlib.pyplot as plt\n",
        "import matplotlib.dates as mdates\n",
        "from matplotlib.dates import DateFormatter\n",
        "import seaborn as sns"
      ]
    },
    {
      "cell_type": "markdown",
      "source": [
        "# **Historical Meteorological Data**\n",
        "\n",
        "Here we're using the NOAA National Centers for Environmental Information (NCEI) [Access Data Service](https://www.ncei.noaa.gov/support/access-data-service-api-user-documentation) application progamming interface (API) to request data from their web servers. We will be using daily summary data collected as part of the [Global Historical Climatology Network daily (GHCNd)](https://www.ncdc.noaa.gov/cdo-web/search?datasetid=GHCND) program at NOAA.\n",
        "\n",
        "For this example we're requesting data for **BOGOTA ELDORADO, CO** (station ID GHCND:CO000080222) located near the Aeropuerto Internacional El Dorado (**4.701°, -74.15°**).\n",
        "\n",
        "https://www.ncdc.noaa.gov/cdo-web/datasets/GHCND/stations/GHCND:CO000080222/detail"
      ],
      "metadata": {
        "id": "sPcr8xeTm2u7"
      }
    },
    {
      "cell_type": "code",
      "source": [
        "bogota_ncei_url = (\"https://www.ncei.noaa.gov/access/services/data/v1\"\n",
        "    \"?dataset=daily-summaries\"\n",
        "    \"&dataTypes=TMIN,TMAX,TAVG,PRCP\"\n",
        "    \"&stations=CO000080222\"\n",
        "    \"&startDate=1941-03-02\"\n",
        "    \"&endDate=2024-03-21\"\n",
        "    \"&includeStationName=true\"\n",
        "    \"&units=standard\")"
      ],
      "metadata": {
        "id": "me-DNbxVhmON"
      },
      "execution_count": null,
      "outputs": []
    },
    {
      "cell_type": "code",
      "source": [
        "# Open data using pandas.read_csv()\n"
      ],
      "metadata": {
        "id": "WFVaLjqeh89k"
      },
      "execution_count": null,
      "outputs": []
    },
    {
      "cell_type": "code",
      "source": [
        "# Plot precip vs time using Matplotlib\n"
      ],
      "metadata": {
        "id": "YrWAam90ksDt"
      },
      "execution_count": null,
      "outputs": []
    },
    {
      "cell_type": "code",
      "source": [
        "# Load bokeh extension for interactive plots\n",
        "\n",
        "\n",
        "# Plot data using .hvplot()\n"
      ],
      "metadata": {
        "id": "nxg3bbk4nMEg"
      },
      "execution_count": null,
      "outputs": []
    },
    {
      "cell_type": "markdown",
      "source": [
        "## **Subsetting & Resampling**"
      ],
      "metadata": {
        "id": "DacFPHCVt2aQ"
      }
    },
    {
      "cell_type": "code",
      "source": [
        "# Subset by year - 2016\n"
      ],
      "metadata": {
        "id": "l1wKPfJVkxDJ"
      },
      "execution_count": null,
      "outputs": []
    },
    {
      "cell_type": "code",
      "source": [
        "# Plot all of the subset data using .plot(kind='bar')\n"
      ],
      "metadata": {
        "id": "F9-HsrtowJzQ"
      },
      "execution_count": null,
      "outputs": []
    },
    {
      "cell_type": "code",
      "source": [
        "# Resample to calculate monthly maximum\n"
      ],
      "metadata": {
        "id": "k7fPIQ_mv2P7"
      },
      "execution_count": null,
      "outputs": []
    },
    {
      "cell_type": "code",
      "source": [
        "# Plot resampled data\n",
        "\n",
        "\n",
        "# Add x-axis and y-axis\n"
      ],
      "metadata": {
        "id": "k_LH-jgOwp-i"
      },
      "execution_count": null,
      "outputs": []
    },
    {
      "cell_type": "code",
      "source": [
        "# Create month column and add to bogotá_precip_2016_monthly_mean\n",
        "\n",
        "# Create list of months\n",
        "\n",
        "\n",
        "# List -> pd df\n",
        "\n",
        "\n",
        "# Rename columns\n"
      ],
      "metadata": {
        "id": "Owh16HI-R4NW"
      },
      "execution_count": null,
      "outputs": []
    },
    {
      "cell_type": "code",
      "source": [
        "# Concat months_df to date_precip 'by row'\n",
        "\n",
        "\n",
        "# Set mes as index\n"
      ],
      "metadata": {
        "id": "1rf3BmWHUegu"
      },
      "execution_count": null,
      "outputs": []
    },
    {
      "cell_type": "code",
      "source": [
        "# Plot months and precip\n",
        "\n",
        "\n",
        "# Add x-axis and y-axis\n"
      ],
      "metadata": {
        "id": "3WW6ZNl2W0zJ"
      },
      "execution_count": null,
      "outputs": []
    },
    {
      "cell_type": "code",
      "source": [
        "# Resample entire df to yearly max & plot\n"
      ],
      "metadata": {
        "id": "3m5p015IwtB7"
      },
      "execution_count": null,
      "outputs": []
    },
    {
      "cell_type": "code",
      "source": [
        "# Plot all of the resampled data using .plot()\n"
      ],
      "metadata": {
        "id": "wstgo-b_xbR9"
      },
      "execution_count": null,
      "outputs": []
    },
    {
      "cell_type": "code",
      "source": [
        "# Resample entire df to yearly sum & plot\n"
      ],
      "metadata": {
        "id": "UXV0V2K_x1Kr"
      },
      "execution_count": null,
      "outputs": []
    },
    {
      "cell_type": "code",
      "source": [
        "# Plot resampled data using .plot()\n"
      ],
      "metadata": {
        "id": "mi_Y-Uh0yG_h"
      },
      "execution_count": null,
      "outputs": []
    },
    {
      "cell_type": "code",
      "source": [
        "# Handle date time conversions between pandas and matplotlib\n",
        "#from pandas.plotting import register_matplotlib_converters\n",
        "#register_matplotlib_converters()\n",
        "\n",
        "# Use white grid plot background from seaborn\n",
        "#sns.set(font_scale=1.5, style=\"whitegrid\")\n",
        "\n",
        "\n",
        "\n",
        "\n",
        "# Set axis tick labels\n",
        "\n",
        "\n",
        "# Plot the precip data\n",
        "\n",
        "\n",
        "\n",
        "# Plot max temp data\n",
        "\n",
        "\n",
        "\n",
        "# Plot mean temp data\n",
        "\n",
        "\n",
        "\n",
        "# Plot min temp data\n",
        "\n",
        "\n",
        "\n",
        "# Turn off grid lines\n",
        "\n",
        "\n",
        "\n",
        "# Set y axis labels\n",
        "\n",
        "\n",
        "\n",
        "# Set plot title\n",
        "\n"
      ],
      "metadata": {
        "id": "k5zH8uMsyAya"
      },
      "execution_count": null,
      "outputs": []
    },
    {
      "cell_type": "markdown",
      "source": [
        "## Optional Challenges\n",
        "* Repeat this workflow for another sampling location of your choice\n",
        "\n",
        "* Use **ChatGPT** to figure out how to add a trendline to the precipitation vs. time plot at the top of the notebook\n",
        "\n",
        "* Use **ChatGPT** and `folium` to make an interactive map that is centered on the lat/lon of the weather station\n",
        "\n",
        "* Create a plot of average monthly temperature from 1980-2024 with a trendline"
      ],
      "metadata": {
        "id": "aioRxjfdjfGn"
      }
    }
  ]
}